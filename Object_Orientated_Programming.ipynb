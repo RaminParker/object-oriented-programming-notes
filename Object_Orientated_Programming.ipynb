{
  "nbformat": 4,
  "nbformat_minor": 0,
  "metadata": {
    "colab": {
      "name": "Object Orientated Programming.ipynb",
      "provenance": [],
      "authorship_tag": "ABX9TyM6hXc6Z6EqNr/jrBV0Qrf1",
      "include_colab_link": true
    },
    "kernelspec": {
      "name": "python3",
      "display_name": "Python 3"
    }
  },
  "cells": [
    {
      "cell_type": "markdown",
      "metadata": {
        "id": "view-in-github",
        "colab_type": "text"
      },
      "source": [
        "<a href=\"https://colab.research.google.com/github/RaminParker/object-oriented-programming-notes/blob/master/Object_Orientated_Programming.ipynb\" target=\"_parent\"><img src=\"https://colab.research.google.com/assets/colab-badge.svg\" alt=\"Open In Colab\"/></a>"
      ]
    },
    {
      "cell_type": "markdown",
      "metadata": {
        "id": "agfxdNwFnDEn",
        "colab_type": "text"
      },
      "source": [
        "# The student class\n",
        "\n",
        "The init function works like a constructor. This is the first function that gets called, whenever you create a new instance of the class. You can think of ``self`` as the current student that we are initialising. For the current student, we take his name, gpa and major and set it to specific values"
      ]
    },
    {
      "cell_type": "code",
      "metadata": {
        "id": "6lSaiGKanKlo",
        "colab_type": "code",
        "colab": {}
      },
      "source": [
        "class Student:\n",
        "  university_name = 'Hogwarts'\n",
        "  def __init__(self, name, gpa, major):\n",
        "    self.name = name\n",
        "    self.gpa = gpa\n",
        "    self.major = major"
      ],
      "execution_count": 1,
      "outputs": []
    },
    {
      "cell_type": "markdown",
      "metadata": {
        "id": "_SELz8swo3PN",
        "colab_type": "text"
      },
      "source": [
        "Let's create an instance of the student class:\n",
        "(You do not have to explicity include ``self`` here)"
      ]
    },
    {
      "cell_type": "code",
      "metadata": {
        "id": "w9d3kowMo0RL",
        "colab_type": "code",
        "colab": {}
      },
      "source": [
        "s1 = Student('Peter', 3.4, 'Math')"
      ],
      "execution_count": 2,
      "outputs": []
    },
    {
      "cell_type": "code",
      "metadata": {
        "id": "50_REJTtpA1P",
        "colab_type": "code",
        "colab": {
          "base_uri": "https://localhost:8080/",
          "height": 34
        },
        "outputId": "77864d7e-adcf-4b98-cf6c-07b14b2e369b"
      },
      "source": [
        "s1.name # this is an instance variable"
      ],
      "execution_count": 3,
      "outputs": [
        {
          "output_type": "execute_result",
          "data": {
            "text/plain": [
              "'Peter'"
            ]
          },
          "metadata": {
            "tags": []
          },
          "execution_count": 3
        }
      ]
    },
    {
      "cell_type": "code",
      "metadata": {
        "id": "vmRFegTUpD8-",
        "colab_type": "code",
        "colab": {
          "base_uri": "https://localhost:8080/",
          "height": 34
        },
        "outputId": "a2170f74-62b9-420e-c4aa-5aa5c67e412e"
      },
      "source": [
        "s1.gpa # this is an instance variable"
      ],
      "execution_count": 4,
      "outputs": [
        {
          "output_type": "execute_result",
          "data": {
            "text/plain": [
              "3.4"
            ]
          },
          "metadata": {
            "tags": []
          },
          "execution_count": 4
        }
      ]
    },
    {
      "cell_type": "code",
      "metadata": {
        "id": "_gP5Og-wpQf4",
        "colab_type": "code",
        "colab": {
          "base_uri": "https://localhost:8080/",
          "height": 34
        },
        "outputId": "e9fb13be-10e5-4e77-ae73-88603288e4bb"
      },
      "source": [
        "s1.major # this is an instance variable"
      ],
      "execution_count": 5,
      "outputs": [
        {
          "output_type": "execute_result",
          "data": {
            "text/plain": [
              "'Math'"
            ]
          },
          "metadata": {
            "tags": []
          },
          "execution_count": 5
        }
      ]
    },
    {
      "cell_type": "code",
      "metadata": {
        "id": "L9HPQojMpVNi",
        "colab_type": "code",
        "colab": {}
      },
      "source": [
        "s2 = Student('Ron', 4.0, 'History')"
      ],
      "execution_count": 6,
      "outputs": []
    },
    {
      "cell_type": "code",
      "metadata": {
        "id": "q4yULKOppe2m",
        "colab_type": "code",
        "colab": {
          "base_uri": "https://localhost:8080/",
          "height": 34
        },
        "outputId": "a30b261d-7a3c-4308-9020-3d02307f45d2"
      },
      "source": [
        "print(s2.name, s2.gpa, s2.major)"
      ],
      "execution_count": 8,
      "outputs": [
        {
          "output_type": "stream",
          "text": [
            "Ron 4.0 History\n"
          ],
          "name": "stdout"
        }
      ]
    },
    {
      "cell_type": "markdown",
      "metadata": {
        "id": "HQ286ohWqBIV",
        "colab_type": "text"
      },
      "source": [
        "``self.name``, ``self.gpa`` and ``self.major`` are instance variables. A class variable is ``university_name``. This is a variable that is shared by every single student."
      ]
    },
    {
      "cell_type": "code",
      "metadata": {
        "id": "LRePIZNIphDm",
        "colab_type": "code",
        "colab": {
          "base_uri": "https://localhost:8080/",
          "height": 51
        },
        "outputId": "d9c8cff7-6935-42ac-b238-9049fc6bca59"
      },
      "source": [
        "print(s1.university_name)\n",
        "print(s2.university_name)"
      ],
      "execution_count": 9,
      "outputs": [
        {
          "output_type": "stream",
          "text": [
            "Hogwarts\n",
            "Hogwarts\n"
          ],
          "name": "stdout"
        }
      ]
    },
    {
      "cell_type": "markdown",
      "metadata": {
        "id": "Y7F-R1wMrOGh",
        "colab_type": "text"
      },
      "source": [
        "Even the id's are the same:"
      ]
    },
    {
      "cell_type": "code",
      "metadata": {
        "id": "h42VDETYrHqC",
        "colab_type": "code",
        "colab": {
          "base_uri": "https://localhost:8080/",
          "height": 34
        },
        "outputId": "0469861c-beec-4c88-8cda-e6e238c17992"
      },
      "source": [
        "id(s1.university_name)"
      ],
      "execution_count": 11,
      "outputs": [
        {
          "output_type": "execute_result",
          "data": {
            "text/plain": [
              "140330275583600"
            ]
          },
          "metadata": {
            "tags": []
          },
          "execution_count": 11
        }
      ]
    },
    {
      "cell_type": "code",
      "metadata": {
        "id": "x4bAMruTrZAT",
        "colab_type": "code",
        "colab": {
          "base_uri": "https://localhost:8080/",
          "height": 34
        },
        "outputId": "b1a3fbd5-cab6-4e9f-f072-b08807db1f55"
      },
      "source": [
        "id(s2.university_name)"
      ],
      "execution_count": 12,
      "outputs": [
        {
          "output_type": "execute_result",
          "data": {
            "text/plain": [
              "140330275583600"
            ]
          },
          "metadata": {
            "tags": []
          },
          "execution_count": 12
        }
      ]
    },
    {
      "cell_type": "markdown",
      "metadata": {
        "id": "bs5Ki357rgyt",
        "colab_type": "text"
      },
      "source": [
        "That means, its not just a copy. They literaly reference the memory. Therefore it is important, not to manipulate this parameter, since this would effect all students."
      ]
    },
    {
      "cell_type": "markdown",
      "metadata": {
        "id": "eBdKSvqqsjV8",
        "colab_type": "text"
      },
      "source": [
        "# Adding some functions to our class\n",
        "\n",
        "Let's define two class functions."
      ]
    },
    {
      "cell_type": "code",
      "metadata": {
        "id": "l5UPrZbjsi34",
        "colab_type": "code",
        "colab": {}
      },
      "source": [
        "class Student:\n",
        "  university_name = 'Hogwards'\n",
        "  def __init__(self, name, gpa, major):\n",
        "    self.name = name\n",
        "    self.gpa = gpa\n",
        "    self.major = major\n",
        "  def update_gpa(self, new_gpa):\n",
        "    self.gpa = new_gpa\n",
        "  def update_major(self, new_major):\n",
        "    self.major = new_major"
      ],
      "execution_count": 17,
      "outputs": []
    },
    {
      "cell_type": "code",
      "metadata": {
        "id": "Sa-opAimrbDe",
        "colab_type": "code",
        "colab": {}
      },
      "source": [
        "s1 = Student('Harry', 3.4, 'Math')"
      ],
      "execution_count": 18,
      "outputs": []
    },
    {
      "cell_type": "code",
      "metadata": {
        "id": "1YYYsST5tob5",
        "colab_type": "code",
        "colab": {
          "base_uri": "https://localhost:8080/",
          "height": 34
        },
        "outputId": "a2d9ea34-cc55-410a-e204-779283933508"
      },
      "source": [
        "print(s1.name, s1.gpa, s1.major)"
      ],
      "execution_count": 19,
      "outputs": [
        {
          "output_type": "stream",
          "text": [
            "Harry 3.4 Math\n"
          ],
          "name": "stdout"
        }
      ]
    },
    {
      "cell_type": "code",
      "metadata": {
        "id": "BbqrS5Yit0Rl",
        "colab_type": "code",
        "colab": {}
      },
      "source": [
        "s1.update_gpa(3.6)"
      ],
      "execution_count": 20,
      "outputs": []
    },
    {
      "cell_type": "code",
      "metadata": {
        "id": "NNEtC7pbt36w",
        "colab_type": "code",
        "colab": {
          "base_uri": "https://localhost:8080/",
          "height": 34
        },
        "outputId": "cc256eb7-754d-46a4-9d87-a692ba9d61fb"
      },
      "source": [
        "print(s1.name, s1.gpa, s1.major)"
      ],
      "execution_count": 21,
      "outputs": [
        {
          "output_type": "stream",
          "text": [
            "Harry 3.6 Math\n"
          ],
          "name": "stdout"
        }
      ]
    },
    {
      "cell_type": "markdown",
      "metadata": {
        "id": "oPeNPm_4vKtH",
        "colab_type": "text"
      },
      "source": [
        "``s1.update_gpa(3.8)`` is actually a shorthand for ``Stundent.update_gpa(s1, 3.8)``"
      ]
    },
    {
      "cell_type": "code",
      "metadata": {
        "id": "-fWprQzEt8LV",
        "colab_type": "code",
        "colab": {}
      },
      "source": [
        "Student.update_gpa(s1, 3.8)"
      ],
      "execution_count": 22,
      "outputs": []
    },
    {
      "cell_type": "code",
      "metadata": {
        "id": "mWN3HYn7vlo-",
        "colab_type": "code",
        "colab": {
          "base_uri": "https://localhost:8080/",
          "height": 34
        },
        "outputId": "05023fa5-8988-4618-e3e5-c7519d10ee73"
      },
      "source": [
        "print(s1.name, s1.gpa, s1.major)"
      ],
      "execution_count": 23,
      "outputs": [
        {
          "output_type": "stream",
          "text": [
            "Harry 3.8 Math\n"
          ],
          "name": "stdout"
        }
      ]
    },
    {
      "cell_type": "code",
      "metadata": {
        "id": "Tx-05J_ivowe",
        "colab_type": "code",
        "colab": {}
      },
      "source": [
        ""
      ],
      "execution_count": null,
      "outputs": []
    }
  ]
}